{
 "cells": [
  {
   "cell_type": "code",
   "execution_count": 1,
   "metadata": {},
   "outputs": [],
   "source": [
    "import numpy as np\n",
    "import pandas as pd"
   ]
  },
  {
   "cell_type": "code",
   "execution_count": 2,
   "metadata": {},
   "outputs": [],
   "source": [
    "def tick_to_rate(tick_index: int) -> float:\n",
    "    if tick_index >= 0:\n",
    "        return (1.0001)**tick_index - 1\n",
    "    else:\n",
    "        return 1 - (1.0001)**(-tick_index)\n",
    "\n",
    "def rate_to_tick(rate: float) -> int:\n",
    "    if rate >= 0:\n",
    "        return float(round(np.log(1+rate)/np.log(1.0001),6))\n",
    "    else:\n",
    "        return - float(round(np.log(1-rate)/np.log(1.0001),6))\n",
    "def str_to_ns(string: str):\n",
    "    \"\"\"\n",
    "    Converts a human readable time-delta string into nanoseconds.\n",
    "\n",
    "    Arguments:\n",
    "        string: String to convert into nanoseconds. Uses Pandas to do this.\n",
    "\n",
    "    Examples:\n",
    "        - \"1s\" -> 1e9 ns\n",
    "        - \"1min\" -> 6e10 ns\n",
    "        - \"00:00:30\" -> 3e10 ns\n",
    "    \"\"\"\n",
    "    return pd.to_timedelta(string).to_timedelta64().astype(np.int64)"
   ]
  },
  {
   "cell_type": "code",
   "execution_count": 3,
   "metadata": {},
   "outputs": [],
   "source": [
    "import inspect\n",
    "import hashlib\n",
    "import os\n",
    "import pickle\n",
    "from typing import List, Dict, Any, Callable\n",
    "\n",
    "import numpy as np\n",
    "import pandas as pd\n",
    "\n",
    "def datetime_str_to_ns(string: str):\n",
    "    \"\"\"\n",
    "    Takes a datetime written as a string and returns in nanosecond unix timestamp.\n",
    "\n",
    "    Arguments:\n",
    "        string: String to convert into nanoseconds. Uses Pandas to do this.\n",
    "    \"\"\"\n",
    "    return pd.Timestamp(string).value\n"
   ]
  },
  {
   "cell_type": "code",
   "execution_count": 11,
   "metadata": {},
   "outputs": [
    {
     "data": {
      "text/plain": [
       "0.10421"
      ]
     },
     "execution_count": 11,
     "metadata": {},
     "output_type": "execute_result"
    }
   ],
   "source": [
    "(1-0.05-0.4)*0.1+0.4*0.1095+0.05*0.1082"
   ]
  },
  {
   "cell_type": "code",
   "execution_count": 17,
   "metadata": {},
   "outputs": [
    {
     "data": {
      "text/plain": [
       "0.10378061474019161"
      ]
     },
     "execution_count": 17,
     "metadata": {},
     "output_type": "execute_result"
    }
   ],
   "source": [
    "(1 - 0.4 - 0.05)*0.10 + 0.05*0.1095 + 0.4*0.10826403685047903"
   ]
  },
  {
   "cell_type": "code",
   "execution_count": 13,
   "metadata": {},
   "outputs": [
    {
     "data": {
      "text/plain": [
       "0.005475000000000001"
      ]
     },
     "execution_count": 13,
     "metadata": {},
     "output_type": "execute_result"
    }
   ],
   "source": [
    "0.05*0.1095"
   ]
  },
  {
   "cell_type": "code",
   "execution_count": 14,
   "metadata": {},
   "outputs": [
    {
     "data": {
      "text/plain": [
       "0.0433056"
      ]
     },
     "execution_count": 14,
     "metadata": {},
     "output_type": "execute_result"
    }
   ],
   "source": [
    "0.40*0.108264"
   ]
  },
  {
   "cell_type": "code",
   "execution_count": 15,
   "metadata": {},
   "outputs": [
    {
     "data": {
      "text/plain": [
       "0.1037806"
      ]
     },
     "execution_count": 15,
     "metadata": {},
     "output_type": "execute_result"
    }
   ],
   "source": [
    "0.055 + 0.005475 + 0.0433056"
   ]
  },
  {
   "cell_type": "code",
   "execution_count": null,
   "metadata": {},
   "outputs": [
    {
     "data": {
      "text/plain": [
       "1039.146588"
      ]
     },
     "execution_count": 7,
     "metadata": {},
     "output_type": "execute_result"
    }
   ],
   "source": [
    "rate_to_tick(0.1095)"
   ]
  },
  {
   "cell_type": "code",
   "execution_count": 7,
   "metadata": {},
   "outputs": [
    {
     "data": {
      "text/plain": [
       "0.11070477952901259"
      ]
     },
     "execution_count": 7,
     "metadata": {},
     "output_type": "execute_result"
    }
   ],
   "source": [
    "tick_to_rate(1050)"
   ]
  },
  {
   "cell_type": "code",
   "execution_count": 10,
   "metadata": {},
   "outputs": [
    {
     "data": {
      "text/plain": [
       "1704067200000000000"
      ]
     },
     "execution_count": 10,
     "metadata": {},
     "output_type": "execute_result"
    }
   ],
   "source": [
    "datetime_str_to_ns('2024-01-01T00:00:00.000Z')"
   ]
  },
  {
   "cell_type": "code",
   "execution_count": 4,
   "metadata": {},
   "outputs": [
    {
     "data": {
      "text/html": [
       "<div>\n",
       "<style scoped>\n",
       "    .dataframe tbody tr th:only-of-type {\n",
       "        vertical-align: middle;\n",
       "    }\n",
       "\n",
       "    .dataframe tbody tr th {\n",
       "        vertical-align: top;\n",
       "    }\n",
       "\n",
       "    .dataframe thead th {\n",
       "        text-align: right;\n",
       "    }\n",
       "</style>\n",
       "<table border=\"1\" class=\"dataframe\">\n",
       "  <thead>\n",
       "    <tr style=\"text-align: right;\">\n",
       "      <th></th>\n",
       "      <th>Binance</th>\n",
       "      <th>date_time</th>\n",
       "    </tr>\n",
       "  </thead>\n",
       "  <tbody>\n",
       "    <tr>\n",
       "      <th>0</th>\n",
       "      <td>0.000100</td>\n",
       "      <td>2023-01-01T08:00:00.008Z</td>\n",
       "    </tr>\n",
       "    <tr>\n",
       "      <th>1</th>\n",
       "      <td>0.000007</td>\n",
       "      <td>2023-01-01T16:00:00.000Z</td>\n",
       "    </tr>\n",
       "    <tr>\n",
       "      <th>2</th>\n",
       "      <td>-0.000015</td>\n",
       "      <td>2023-01-02T00:00:00.000Z</td>\n",
       "    </tr>\n",
       "    <tr>\n",
       "      <th>3</th>\n",
       "      <td>-0.000044</td>\n",
       "      <td>2023-01-02T08:00:00.008Z</td>\n",
       "    </tr>\n",
       "    <tr>\n",
       "      <th>4</th>\n",
       "      <td>0.000027</td>\n",
       "      <td>2023-01-02T16:00:00.015Z</td>\n",
       "    </tr>\n",
       "    <tr>\n",
       "      <th>...</th>\n",
       "      <td>...</td>\n",
       "      <td>...</td>\n",
       "    </tr>\n",
       "    <tr>\n",
       "      <th>1090</th>\n",
       "      <td>0.000378</td>\n",
       "      <td>2023-12-30T16:00:00.000Z</td>\n",
       "    </tr>\n",
       "    <tr>\n",
       "      <th>1091</th>\n",
       "      <td>0.000279</td>\n",
       "      <td>2023-12-31T00:00:00.000Z</td>\n",
       "    </tr>\n",
       "    <tr>\n",
       "      <th>1092</th>\n",
       "      <td>0.000346</td>\n",
       "      <td>2023-12-31T08:00:00.001Z</td>\n",
       "    </tr>\n",
       "    <tr>\n",
       "      <th>1093</th>\n",
       "      <td>0.000336</td>\n",
       "      <td>2023-12-31T16:00:00.000Z</td>\n",
       "    </tr>\n",
       "    <tr>\n",
       "      <th>1094</th>\n",
       "      <td>0.000374</td>\n",
       "      <td>2024-01-01T00:00:00.000Z</td>\n",
       "    </tr>\n",
       "  </tbody>\n",
       "</table>\n",
       "<p>1095 rows × 2 columns</p>\n",
       "</div>"
      ],
      "text/plain": [
       "       Binance                 date_time\n",
       "0     0.000100  2023-01-01T08:00:00.008Z\n",
       "1     0.000007  2023-01-01T16:00:00.000Z\n",
       "2    -0.000015  2023-01-02T00:00:00.000Z\n",
       "3    -0.000044  2023-01-02T08:00:00.008Z\n",
       "4     0.000027  2023-01-02T16:00:00.015Z\n",
       "...        ...                       ...\n",
       "1090  0.000378  2023-12-30T16:00:00.000Z\n",
       "1091  0.000279  2023-12-31T00:00:00.000Z\n",
       "1092  0.000346  2023-12-31T08:00:00.001Z\n",
       "1093  0.000336  2023-12-31T16:00:00.000Z\n",
       "1094  0.000374  2024-01-01T00:00:00.000Z\n",
       "\n",
       "[1095 rows x 2 columns]"
      ]
     },
     "execution_count": 4,
     "metadata": {},
     "output_type": "execute_result"
    }
   ],
   "source": [
    "pd.read_pickle('BTC-Binance-2023.pkl')"
   ]
  },
  {
   "cell_type": "code",
   "execution_count": 11,
   "metadata": {},
   "outputs": [],
   "source": [
    "position = {\"COLLATERAL\": 50, \"SIZE\": 100, \"FIXRATE\": 0.0001}\n",
    "mkt_open = 0\n",
    "mkt_close = 365 * str_to_ns(\"1d\")\n",
    "current_time = 0\n",
    "swap_interval = 8 * str_to_ns(\"1h\")\n",
    "last_twap = -3.230998"
   ]
  },
  {
   "cell_type": "code",
   "execution_count": null,
   "metadata": {},
   "outputs": [],
   "source": [
    "mkt_close = 365 * str_to_ns(\"1d\")"
   ]
  },
  {
   "cell_type": "code",
   "execution_count": 12,
   "metadata": {},
   "outputs": [],
   "source": [
    "def mark_to_market(\n",
    "    position=None, market_tick: int = None, log: bool = False\n",
    ") -> int:\n",
    "    \"\"\"\n",
    "    Marks position to market (including cash) based on the market rate from rate_oracle.\n",
    "\n",
    "    Arguments:\n",
    "        position:\n",
    "        log: log this event or not\n",
    "    \"\"\"\n",
    "    # If no position is provided, self evaluating the current position\n",
    "    if not position:  \n",
    "        position = position \n",
    "        log = True  # Only log the real mark_to_market\n",
    "\n",
    "    # If market tick is not provided, find market_tick from orderbook directly\n",
    "    if not market_tick:\n",
    "        market_tick = last_twap  # Should be like this in the future\n",
    "\n",
    "    cash = position[\"COLLATERAL\"]\n",
    "        \n",
    "    value = (tick_to_rate(market_tick)-position[\"FIXRATE\"])*position[\"SIZE\"]*n_payment()\n",
    "\n",
    "    cash += value\n",
    "\n",
    "\n",
    "    return cash\n",
    "\n",
    "def n_payment():\n",
    "    return np.ceil((mkt_close - current_time)/swap_interval)"
   ]
  },
  {
   "cell_type": "code",
   "execution_count": 13,
   "metadata": {},
   "outputs": [
    {
     "data": {
      "text/plain": [
       "3.666625166404451"
      ]
     },
     "execution_count": 13,
     "metadata": {},
     "output_type": "execute_result"
    }
   ],
   "source": [
    "mark_to_market(position=position, market_tick=last_twap, log=True)"
   ]
  },
  {
   "cell_type": "code",
   "execution_count": 15,
   "metadata": {},
   "outputs": [
    {
     "name": "stdout",
     "output_type": "stream",
     "text": [
      "Mark to Market Value: 3.667\n"
     ]
    }
   ],
   "source": [
    "import math\n",
    "\n",
    "# 定义位置\n",
    "position = {\n",
    "    \"COLLATERAL\": 50,   # 保证金\n",
    "    \"SIZE\": 100,        # 持仓量\n",
    "    \"FIXRATE\": 0.0001   # 固定利率\n",
    "}\n",
    "\n",
    "# 定义 TWAP\n",
    "twap = -3.230998\n",
    "\n",
    "# 定义 tick_to_rate，根据 FakeRateOracle 的返回值\n",
    "def tick_to_rate(tick: float) -> float:\n",
    "    # 在您的测试中，FakeRateOracle 返回了 -0.0003231358432291831\n",
    "    return -0.0003231358432291831\n",
    "\n",
    "# 定义 rate_normalizer\n",
    "rate_normalizer = 1\n",
    "\n",
    "# 定义 n_payment，假设为 1095\n",
    "n_payment = 1095\n",
    "\n",
    "# 计算 tick_to_rate(twap)\n",
    "floating_rate = tick_to_rate(twap)\n",
    "\n",
    "# 计算 MtM\n",
    "def calculate_mark_to_market(position, floating_rate: float, rate_normalizer: float, n_payment: int) -> float:\n",
    "    collateral = position[\"COLLATERAL\"]\n",
    "    size = position[\"SIZE\"]\n",
    "    fixrate = position[\"FIXRATE\"]\n",
    "    \n",
    "    # 计算值\n",
    "    value = (floating_rate - fixrate) * rate_normalizer * size * n_payment\n",
    "    \n",
    "    # 计算 MtM\n",
    "    mark_to_market = collateral + value\n",
    "    \n",
    "    return mark_to_market\n",
    "\n",
    "# 进行计算\n",
    "mark_to_market = calculate_mark_to_market(position, floating_rate, rate_normalizer, n_payment)\n",
    "\n",
    "# 打印结果\n",
    "print(f\"Mark to Market Value: {mark_to_market:.3f}\")\n"
   ]
  },
  {
   "cell_type": "code",
   "execution_count": null,
   "metadata": {},
   "outputs": [],
   "source": []
  }
 ],
 "metadata": {
  "kernelspec": {
   "display_name": "abides",
   "language": "python",
   "name": "python3"
  },
  "language_info": {
   "codemirror_mode": {
    "name": "ipython",
    "version": 3
   },
   "file_extension": ".py",
   "mimetype": "text/x-python",
   "name": "python",
   "nbconvert_exporter": "python",
   "pygments_lexer": "ipython3",
   "version": "3.10.15"
  }
 },
 "nbformat": 4,
 "nbformat_minor": 2
}

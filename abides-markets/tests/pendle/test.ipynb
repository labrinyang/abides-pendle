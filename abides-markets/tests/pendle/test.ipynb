{
 "cells": [
  {
   "cell_type": "code",
   "execution_count": 1,
   "metadata": {},
   "outputs": [],
   "source": [
    "import numpy as np\n",
    "import pandas as pd"
   ]
  },
  {
   "cell_type": "code",
   "execution_count": 2,
   "metadata": {},
   "outputs": [],
   "source": [
    "def tick_to_rate(tick_index: int) -> float:\n",
    "    if tick_index >= 0:\n",
    "        return (1.0001)**tick_index - 1\n",
    "    else:\n",
    "        return 1 - (1.0001)**(-tick_index)\n",
    "\n",
    "def rate_to_tick(rate: float) -> int:\n",
    "    if rate >= 0:\n",
    "        return float(round(np.log(1+rate)/np.log(1.0001),6))\n",
    "    else:\n",
    "        return - float(round(np.log(1-rate)/np.log(1.0001),6))\n",
    "def str_to_ns(string: str):\n",
    "    \"\"\"\n",
    "    Converts a human readable time-delta string into nanoseconds.\n",
    "\n",
    "    Arguments:\n",
    "        string: String to convert into nanoseconds. Uses Pandas to do this.\n",
    "\n",
    "    Examples:\n",
    "        - \"1s\" -> 1e9 ns\n",
    "        - \"1min\" -> 6e10 ns\n",
    "        - \"00:00:30\" -> 3e10 ns\n",
    "    \"\"\"\n",
    "    return pd.to_timedelta(string).to_timedelta64().astype(np.int64)"
   ]
  },
  {
   "cell_type": "code",
   "execution_count": 3,
   "metadata": {},
   "outputs": [
    {
     "data": {
      "text/plain": [
       "0.1095"
      ]
     },
     "execution_count": 3,
     "metadata": {},
     "output_type": "execute_result"
    }
   ],
   "source": [
    "0.0001 * 1095"
   ]
  },
  {
   "cell_type": "code",
   "execution_count": 4,
   "metadata": {},
   "outputs": [
    {
     "data": {
      "text/plain": [
       "-0.3538337483359555"
      ]
     },
     "execution_count": 4,
     "metadata": {},
     "output_type": "execute_result"
    }
   ],
   "source": [
    "-0.0003231358432291831 * 1095"
   ]
  },
  {
   "cell_type": "code",
   "execution_count": 7,
   "metadata": {},
   "outputs": [
    {
     "data": {
      "text/plain": [
       "1039.146588"
      ]
     },
     "execution_count": 7,
     "metadata": {},
     "output_type": "execute_result"
    }
   ],
   "source": [
    "rate_to_tick(0.1095)"
   ]
  },
  {
   "cell_type": "code",
   "execution_count": 6,
   "metadata": {},
   "outputs": [
    {
     "data": {
      "text/plain": [
       "-0.3537585783029831"
      ]
     },
     "execution_count": 6,
     "metadata": {},
     "output_type": "execute_result"
    }
   ],
   "source": [
    "tick_to_rate(-3029)"
   ]
  },
  {
   "cell_type": "code",
   "execution_count": 11,
   "metadata": {},
   "outputs": [],
   "source": [
    "position = {\"COLLATERAL\": 50, \"SIZE\": 100, \"FIXRATE\": 0.0001}\n",
    "mkt_open = 0\n",
    "mkt_close = 365 * str_to_ns(\"1d\")\n",
    "current_time = 0\n",
    "swap_interval = 8 * str_to_ns(\"1h\")\n",
    "last_twap = -3.230998"
   ]
  },
  {
   "cell_type": "code",
   "execution_count": null,
   "metadata": {},
   "outputs": [],
   "source": [
    "mkt_close = 365 * str_to_ns(\"1d\")"
   ]
  },
  {
   "cell_type": "code",
   "execution_count": 12,
   "metadata": {},
   "outputs": [],
   "source": [
    "def mark_to_market(\n",
    "    position=None, market_tick: int = None, log: bool = False\n",
    ") -> int:\n",
    "    \"\"\"\n",
    "    Marks position to market (including cash) based on the market rate from rate_oracle.\n",
    "\n",
    "    Arguments:\n",
    "        position:\n",
    "        log: log this event or not\n",
    "    \"\"\"\n",
    "    # If no position is provided, self evaluating the current position\n",
    "    if not position:  \n",
    "        position = position \n",
    "        log = True  # Only log the real mark_to_market\n",
    "\n",
    "    # If market tick is not provided, find market_tick from orderbook directly\n",
    "    if not market_tick:\n",
    "        market_tick = last_twap  # Should be like this in the future\n",
    "\n",
    "    cash = position[\"COLLATERAL\"]\n",
    "        \n",
    "    value = (tick_to_rate(market_tick)-position[\"FIXRATE\"])*position[\"SIZE\"]*n_payment()\n",
    "\n",
    "    cash += value\n",
    "\n",
    "\n",
    "    return cash\n",
    "\n",
    "def n_payment():\n",
    "    return np.ceil((mkt_close - current_time)/swap_interval)"
   ]
  },
  {
   "cell_type": "code",
   "execution_count": 13,
   "metadata": {},
   "outputs": [
    {
     "data": {
      "text/plain": [
       "3.666625166404451"
      ]
     },
     "execution_count": 13,
     "metadata": {},
     "output_type": "execute_result"
    }
   ],
   "source": [
    "mark_to_market(position=position, market_tick=last_twap, log=True)"
   ]
  },
  {
   "cell_type": "code",
   "execution_count": 15,
   "metadata": {},
   "outputs": [
    {
     "name": "stdout",
     "output_type": "stream",
     "text": [
      "Mark to Market Value: 3.667\n"
     ]
    }
   ],
   "source": [
    "import math\n",
    "\n",
    "# 定义位置\n",
    "position = {\n",
    "    \"COLLATERAL\": 50,   # 保证金\n",
    "    \"SIZE\": 100,        # 持仓量\n",
    "    \"FIXRATE\": 0.0001   # 固定利率\n",
    "}\n",
    "\n",
    "# 定义 TWAP\n",
    "twap = -3.230998\n",
    "\n",
    "# 定义 tick_to_rate，根据 FakeRateOracle 的返回值\n",
    "def tick_to_rate(tick: float) -> float:\n",
    "    # 在您的测试中，FakeRateOracle 返回了 -0.0003231358432291831\n",
    "    return -0.0003231358432291831\n",
    "\n",
    "# 定义 rate_normalizer\n",
    "rate_normalizer = 1\n",
    "\n",
    "# 定义 n_payment，假设为 1095\n",
    "n_payment = 1095\n",
    "\n",
    "# 计算 tick_to_rate(twap)\n",
    "floating_rate = tick_to_rate(twap)\n",
    "\n",
    "# 计算 MtM\n",
    "def calculate_mark_to_market(position, floating_rate: float, rate_normalizer: float, n_payment: int) -> float:\n",
    "    collateral = position[\"COLLATERAL\"]\n",
    "    size = position[\"SIZE\"]\n",
    "    fixrate = position[\"FIXRATE\"]\n",
    "    \n",
    "    # 计算值\n",
    "    value = (floating_rate - fixrate) * rate_normalizer * size * n_payment\n",
    "    \n",
    "    # 计算 MtM\n",
    "    mark_to_market = collateral + value\n",
    "    \n",
    "    return mark_to_market\n",
    "\n",
    "# 进行计算\n",
    "mark_to_market = calculate_mark_to_market(position, floating_rate, rate_normalizer, n_payment)\n",
    "\n",
    "# 打印结果\n",
    "print(f\"Mark to Market Value: {mark_to_market:.3f}\")\n"
   ]
  },
  {
   "cell_type": "code",
   "execution_count": null,
   "metadata": {},
   "outputs": [],
   "source": []
  }
 ],
 "metadata": {
  "kernelspec": {
   "display_name": "abides",
   "language": "python",
   "name": "python3"
  },
  "language_info": {
   "codemirror_mode": {
    "name": "ipython",
    "version": 3
   },
   "file_extension": ".py",
   "mimetype": "text/x-python",
   "name": "python",
   "nbconvert_exporter": "python",
   "pygments_lexer": "ipython3",
   "version": "3.10.15"
  }
 },
 "nbformat": 4,
 "nbformat_minor": 2
}

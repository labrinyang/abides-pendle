{
 "cells": [
  {
   "cell_type": "code",
   "execution_count": 3,
   "metadata": {},
   "outputs": [],
   "source": [
    "import numpy as np\n",
    "import pandas as pd\n",
    "from matplotlib import pyplot as plt\n",
    "\n",
    "from abides_core import abides\n",
    "from abides_core.utils import parse_logs_df, ns_date, str_to_ns, fmt_ts\n",
    "from abides_markets.configs import prmsc1, prmsc2"
   ]
  },
  {
   "cell_type": "code",
   "execution_count": 4,
   "metadata": {},
   "outputs": [],
   "source": [
    "config = prmsc2.build_config()"
   ]
  },
  {
   "cell_type": "code",
   "execution_count": null,
   "metadata": {},
   "outputs": [],
   "source": [
    "config.keys()"
   ]
  },
  {
   "cell_type": "code",
   "execution_count": null,
   "metadata": {},
   "outputs": [],
   "source": [
    "end_state = abides.run( config )"
   ]
  },
  {
   "cell_type": "markdown",
   "metadata": {},
   "source": [
    "# Metric Slice"
   ]
  },
  {
   "cell_type": "code",
   "execution_count": 7,
   "metadata": {},
   "outputs": [],
   "source": [
    "time_mesh = np.arange(\n",
    "    config[\"start_time\"],\n",
    "    config[\"stop_time\"],\n",
    "    1e9*60*60  # Show per 1h\n",
    ")"
   ]
  },
  {
   "cell_type": "code",
   "execution_count": 8,
   "metadata": {},
   "outputs": [],
   "source": [
    "time_mesh = time_mesh[1:]\n",
    "max_time = time_mesh[-1]\n",
    "trading_agents = end_state[\"agents\"][1:]\n",
    "num_agent = len(trading_agents)\n",
    "\n",
    "metric_table = np.zeros((num_agent, len(time_mesh), 3))\n",
    "\n",
    "for i, agent in enumerate(trading_agents):\n",
    "    j = 0\n",
    "    last_metric = [0, np.inf, np.inf]\n",
    "    \n",
    "    for event in agent.log:\n",
    "        if event[1] == 'METRIC':\n",
    "            if event[0] >= max_time:\n",
    "                continue\n",
    "            while event[0] > time_mesh[j]:\n",
    "                metric_table[i, j] = last_metric\n",
    "                j += 1\n",
    "            metric_table[i, j] = np.array(event[2])  # Metric of agent i at time j: [Volume, R1, R2]\n",
    "            last_metric = np.array(event[2])"
   ]
  },
  {
   "cell_type": "code",
   "execution_count": 9,
   "metadata": {},
   "outputs": [],
   "source": [
    "def metric_slice(table, t, plot=False):\n",
    "    metric_slice = table[:, t, :]\n",
    "\n",
    "    metric_long = [metric for metric in metric_slice if metric[0] > 0]\n",
    "    metric_long = sorted(metric_long, key=lambda x: -x[1])\n",
    "    \n",
    "    metric_short = [metric for metric in metric_slice if metric[0] < 0]\n",
    "    metric_short = sorted(metric_short, key=lambda x: x[1])\n",
    "\n",
    "    # Long orders\n",
    "    vol_long = [metric[0] for metric in metric_long]\n",
    "    RG1_long = [metric[1] for metric in metric_long]\n",
    "    RG2_long = [metric[2] for metric in metric_long]\n",
    "\n",
    "    cum_vol_long = np.cumsum(vol_long)\n",
    "    total_vol_long = cum_vol_long[-1] if len(cum_vol_long) > 0 else 0\n",
    "\n",
    "    # Short orders\n",
    "    vol_short = [-metric[0] for metric in metric_short]\n",
    "    RG1_short = [metric[1] for metric in metric_short]\n",
    "    RG2_short = [metric[2] for metric in metric_short]\n",
    "\n",
    "    cum_vol_short = np.cumsum(vol_short)\n",
    "    total_vol_short = cum_vol_short[-1] if len(cum_vol_short) > 0 else 0\n",
    "\n",
    "    # print(total_vol_long, total_vol_short)\n",
    "    if (total_vol_long != total_vol_short):\n",
    "        print(f\"{total_vol_long}, {total_vol_short}\", t)\n",
    "\n",
    "    if plot:\n",
    "        plt.plot(cum_vol_short, RG2_short, label = \"RG2Short\")\n",
    "        plt.plot(cum_vol_short, RG1_short, label = \"RG1Short\")\n",
    "        plt.plot(cum_vol_long, RG1_long, label = \"RG1Long\")\n",
    "        plt.plot(cum_vol_long, RG2_long, label = \"RG2Long\")\n",
    "\n",
    "        plt.xlabel(\"Notional\")\n",
    "        plt.ylabel(\"Tick\")\n",
    "        plt.title(f\"Global Metric at time {t}\")\n",
    "        \n",
    "        plt.ylim(0, 3000)\n",
    "        plt.legend()\n",
    "        plt.show()\n",
    "\n",
    "    return {\"OI\": total_vol_long, \n",
    "            \"VolL\": cum_vol_long, \"VolS\": cum_vol_short, \n",
    "            \"RG1L\": RG1_long, \"RG2L\": RG2_long, \n",
    "            \"RG1S\": RG1_short, \"RG2S\": RG2_short}"
   ]
  },
  {
   "cell_type": "code",
   "execution_count": null,
   "metadata": {},
   "outputs": [],
   "source": [
    "metric_slice(metric_table, 100, plot=True)"
   ]
  },
  {
   "cell_type": "markdown",
   "metadata": {},
   "source": [
    "# Metric Summary"
   ]
  },
  {
   "cell_type": "markdown",
   "metadata": {},
   "source": [
    "## Price Impact"
   ]
  },
  {
   "cell_type": "code",
   "execution_count": 11,
   "metadata": {},
   "outputs": [],
   "source": [
    "def price_impact(book_log):\n",
    "    bids = book_log[\"bids\"]\n",
    "    asks = book_log[\"asks\"]\n",
    "    time = book_log[\"QuoteTime\"]\n",
    "    bid_price = [bid[0] for bid in bids]\n",
    "    bid_vol = np.cumsum([bid[0] for bid in bids])\n",
    "\n",
    "    ask_price = [ask[0] for ask in asks]\n",
    "    ask_vol = np.cumsum([ask[0] for ask in asks])\n",
    "\n",
    "    plt.plot(bid_vol, bid_price, label=\"BID\")\n",
    "    plt.plot(ask_vol, ask_price, label=\"ASK\")\n",
    "    plt.title(f\"Price Impact at time {fmt_ts(time)}\")\n",
    "    plt.show()"
   ]
  },
  {
   "cell_type": "code",
   "execution_count": 12,
   "metadata": {},
   "outputs": [],
   "source": [
    "order_book = end_state[\"agents\"][0].order_books[\"PEN\"]\n",
    "twap = pd.DataFrame(order_book.twap_record,columns=[\"time\",\"price\"])"
   ]
  },
  {
   "cell_type": "code",
   "execution_count": null,
   "metadata": {},
   "outputs": [],
   "source": [
    "end_state[\"agents\"][0].order_books[\"PEN\"].book_log2[100000]"
   ]
  },
  {
   "cell_type": "code",
   "execution_count": null,
   "metadata": {},
   "outputs": [],
   "source": [
    "price_impact(end_state[\"agents\"][0].order_books[\"PEN\"].book_log2[100000])"
   ]
  },
  {
   "cell_type": "markdown",
   "metadata": {},
   "source": [
    "## RGs"
   ]
  },
  {
   "cell_type": "code",
   "execution_count": 15,
   "metadata": {},
   "outputs": [],
   "source": [
    "max_time = time_mesh[-1]\n",
    "\n",
    "small_twap = np.zeros(len(time_mesh))\n",
    "\n",
    "j = 0\n",
    "\n",
    "for twap_by_time in twap.itertuples():\n",
    "    if twap_by_time[1] >= max_time:\n",
    "        break\n",
    "    while twap_by_time[1] > time_mesh[j]:\n",
    "        j += 1\n",
    "    small_twap[j] = twap_by_time[2]\n",
    "    \n",
    "small_twap = small_twap[1:] "
   ]
  },
  {
   "cell_type": "code",
   "execution_count": 16,
   "metadata": {},
   "outputs": [],
   "source": [
    "def RG_by_vol(S, cum_vol, R_array):\n",
    "    for i, cum_vol in enumerate(cum_vol):\n",
    "        if cum_vol > S:\n",
    "            return R_array[i]"
   ]
  },
  {
   "cell_type": "markdown",
   "metadata": {},
   "source": [
    "### RG1"
   ]
  },
  {
   "cell_type": "code",
   "execution_count": null,
   "metadata": {},
   "outputs": [],
   "source": [
    "R1_summary = np.zeros((metric_table.shape[1], 4))\n",
    "\n",
    "for i in range(metric_table.shape[1]):\n",
    "    slice = metric_slice(metric_table, i)\n",
    "    R1_summary[i, :] = [RG_by_vol(0.10*slice[\"OI\"], slice[\"VolL\"], slice[\"RG1L\"]), \n",
    "                        RG_by_vol(0.20*slice[\"OI\"], slice[\"VolL\"], slice[\"RG1L\"]),\n",
    "                        RG_by_vol(0.10*slice[\"OI\"], slice[\"VolL\"], slice[\"RG1S\"]),\n",
    "                        RG_by_vol(0.20*slice[\"OI\"], slice[\"VolL\"], slice[\"RG1S\"])\n",
    "    ]\n",
    "\n",
    "plt.ylim(0, 3000)\n",
    "plt.plot(R1_summary, label={\"RG1Long_10\",\n",
    "                            \"RG1Long_20\",\n",
    "                            \"RG1Short_10\",\n",
    "                            \"RG1Short_20\"})\n",
    "\n",
    "plt.plot(small_twap, label=\"TWAP\")\n",
    "\n",
    "plt.title(\"R1 summary\")\n",
    "plt.legend()\n",
    "plt.show()"
   ]
  },
  {
   "cell_type": "markdown",
   "metadata": {},
   "source": [
    "### RG2"
   ]
  },
  {
   "cell_type": "code",
   "execution_count": null,
   "metadata": {},
   "outputs": [],
   "source": [
    "R2_summary = np.zeros((metric_table.shape[1], 4))\n",
    "\n",
    "for i in range(metric_table.shape[1]):\n",
    "    slice = metric_slice(metric_table, i)\n",
    "    R2_summary[i, :] = [RG_by_vol(0.10*slice[\"OI\"], slice[\"VolL\"], slice[\"RG2L\"]), \n",
    "                        RG_by_vol(0.20*slice[\"OI\"], slice[\"VolL\"], slice[\"RG2L\"]),\n",
    "                        RG_by_vol(0.10*slice[\"OI\"], slice[\"VolL\"], slice[\"RG2S\"]),\n",
    "                        RG_by_vol(0.20*slice[\"OI\"], slice[\"VolL\"], slice[\"RG2S\"])\n",
    "    ]\n",
    "\n",
    "plt.ylim(0, 3000)\n",
    "plt.plot(R2_summary, label={\"RG2Long_10\",\n",
    "                            \"RG2Long_20\",\n",
    "                            \"RG2Short_10\",\n",
    "                            \"RG2Short_20\"})\n",
    "plt.plot(small_twap, label=\"TWAP\")\n",
    "\n",
    "plt.title(\"R2 summary\")\n",
    "plt.legend()\n",
    "plt.show()"
   ]
  },
  {
   "cell_type": "markdown",
   "metadata": {},
   "source": [
    "# One value agent"
   ]
  },
  {
   "cell_type": "code",
   "execution_count": 19,
   "metadata": {},
   "outputs": [],
   "source": [
    "agent = end_state[\"agents\"][1041]"
   ]
  },
  {
   "cell_type": "code",
   "execution_count": null,
   "metadata": {},
   "outputs": [],
   "source": [
    "time_index_R1 = []\n",
    "R1_val = []\n",
    "\n",
    "for event in agent.log:\n",
    "    if event[1] == 'R1':\n",
    "        time_index_R1.append(event[0])\n",
    "        R1_val.append(event[2])\n",
    "\n",
    "plt.plot(time_index_R1, R1_val, label=\"R1\")\n",
    "time_mesh = np.arange(\n",
    "    config[\"start_time\"],\n",
    "    config[\"stop_time\"],\n",
    "    1e9*60*60*24*15  # Show per 5 days\n",
    ")\n",
    "_=plt.xticks(time_mesh, [ fmt_ts(time).split(\" \")[0] for time in time_mesh], rotation=60 )"
   ]
  },
  {
   "cell_type": "code",
   "execution_count": null,
   "metadata": {},
   "outputs": [],
   "source": [
    "time_index_R2 = []\n",
    "R2_val = []\n",
    "\n",
    "for event in agent.log:\n",
    "    if event[1] == 'R2':\n",
    "        if event[2][0] > 0 and event[2][0] < 2000:\n",
    "            time_index_R2.append(event[0])\n",
    "            R2_val.append(event[2][0])\n",
    "\n",
    "plt.plot(time_index_R2, R2_val, label=\"R2\")\n",
    "time_mesh = np.arange(\n",
    "    config[\"start_time\"],\n",
    "    config[\"stop_time\"],\n",
    "    1e9*60*60*24*5  # Show per 5 days\n",
    ")\n",
    "_=plt.xticks(time_mesh, [ fmt_ts(time).split(\" \")[0] for time in time_mesh], rotation=60 )"
   ]
  },
  {
   "cell_type": "markdown",
   "metadata": {},
   "source": [
    "# Log observation"
   ]
  },
  {
   "cell_type": "code",
   "execution_count": 22,
   "metadata": {},
   "outputs": [],
   "source": [
    "order_book = end_state[\"agents\"][0].order_books[\"PEN\"]"
   ]
  },
  {
   "cell_type": "code",
   "execution_count": 23,
   "metadata": {},
   "outputs": [],
   "source": [
    "logs_df = parse_logs_df( end_state )"
   ]
  },
  {
   "cell_type": "code",
   "execution_count": null,
   "metadata": {},
   "outputs": [],
   "source": [
    "print(logs_df[ (logs_df.agent_type == \"ValueAgent\")  ].to_string())"
   ]
  },
  {
   "cell_type": "code",
   "execution_count": null,
   "metadata": {},
   "outputs": [],
   "source": [
    "print(logs_df[ (logs_df.agent_type == \"LiquidatorAgent\")  ].to_string())"
   ]
  },
  {
   "cell_type": "markdown",
   "metadata": {},
   "source": [
    "# Orderbook"
   ]
  },
  {
   "cell_type": "code",
   "execution_count": 26,
   "metadata": {},
   "outputs": [],
   "source": [
    "L1 = order_book.get_L1_snapshots()"
   ]
  },
  {
   "cell_type": "code",
   "execution_count": null,
   "metadata": {},
   "outputs": [],
   "source": [
    "best_bids = pd.DataFrame(L1[\"best_bids\"],columns=[\"time\",\"price\",\"qty\"])\n",
    "best_asks = pd.DataFrame(L1[\"best_asks\"],columns=[\"time\",\"price\",\"qty\"])\n",
    "twap = pd.DataFrame(order_book.twap_record,columns=[\"time\",\"price\"])\n",
    "\n",
    "plt.plot(best_bids.time,best_bids.price, label=\"BID\")\n",
    "plt.plot(best_asks.time,best_asks.price, label=\"ASK\")\n",
    "plt.plot(twap.time,twap.price, label=\"TWAP\")\n",
    "plt.legend()\n",
    "\n",
    "time_mesh = np.arange(\n",
    "    config[\"start_time\"],\n",
    "    config[\"stop_time\"],\n",
    "    1e9*60*60*24*15  # Show per 15 days\n",
    ")\n",
    "_=plt.xticks(time_mesh, [ fmt_ts(time).split(\" \")[0] for time in time_mesh], rotation=60 )"
   ]
  },
  {
   "cell_type": "code",
   "execution_count": 28,
   "metadata": {},
   "outputs": [],
   "source": [
    "transaction_time_mesh = np.arange(\n",
    "    config[\"start_time\"],\n",
    "    config[\"stop_time\"] + 1,\n",
    "    1e9*60*60*24  # Show per 1 day\n",
    ")\n",
    "transaction_time_mesh = transaction_time_mesh[1:]  # Drop the first timestamp"
   ]
  },
  {
   "cell_type": "code",
   "execution_count": 29,
   "metadata": {},
   "outputs": [],
   "source": [
    "buys = pd.DataFrame(order_book.buy_transactions,columns=[\"time\",\"price\",\"qty\"])\n",
    "sells = pd.DataFrame(order_book.sell_transactions,columns=[\"time\",\"price\",\"qty\"])\n",
    "\n",
    "buys_pday = np.zeros(len(transaction_time_mesh))\n",
    "counter = 0\n",
    "for buy in buys.itertuples():\n",
    "    if buy.time > transaction_time_mesh[counter]:\n",
    "        counter += 1\n",
    "    if counter >= len(transaction_time_mesh):\n",
    "        break\n",
    "    buys_pday[counter] += buy.qty\n",
    "\n",
    "sells_pday = np.zeros(len(transaction_time_mesh))\n",
    "counter = 0\n",
    "for sell in sells.itertuples():\n",
    "    if sell.time > transaction_time_mesh[counter]:\n",
    "        counter += 1\n",
    "    if counter >= len(transaction_time_mesh):\n",
    "        break\n",
    "    sells_pday[counter] += sell.qty"
   ]
  },
  {
   "cell_type": "code",
   "execution_count": null,
   "metadata": {},
   "outputs": [],
   "source": [
    "plt.plot(transaction_time_mesh, buys_pday, label=\"BUY volume\")\n",
    "plt.plot(transaction_time_mesh, sells_pday, label=\"SELL volume\")\n",
    "plt.legend()\n",
    "plt.xticks(time_mesh, [ fmt_ts(time).split(\" \")[0] for time in time_mesh], rotation=60 )\n",
    "plt.show()"
   ]
  }
 ],
 "metadata": {
  "kernelspec": {
   "display_name": "pendle",
   "language": "python",
   "name": "python3"
  },
  "language_info": {
   "codemirror_mode": {
    "name": "ipython",
    "version": 3
   },
   "file_extension": ".py",
   "mimetype": "text/x-python",
   "name": "python",
   "nbconvert_exporter": "python",
   "pygments_lexer": "ipython3",
   "version": "3.9.20"
  }
 },
 "nbformat": 4,
 "nbformat_minor": 2
}
